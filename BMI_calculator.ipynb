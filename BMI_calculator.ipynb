{
 "cells": [
  {
   "cell_type": "code",
   "execution_count": 2,
   "id": "6bb0c032",
   "metadata": {},
   "outputs": [
    {
     "name": "stdout",
     "output_type": "stream",
     "text": [
      "enter your name = Vishal\n",
      "\n",
      "enter your weight in lbs = 159\n",
      "\n",
      "enter your height in inches = 60\n",
      "\n",
      "Your BMI is =  31.05\n",
      "\n",
      "Vishal, You are Obese\n",
      "\n",
      "Under 18.5\tUnderweight\n",
      "18.5 - 24.9\tNormal Weight\n",
      "25 - 29.9\tOverweight\n",
      "30 - 34.9\tObese\n",
      "35 - 39.9\tSeverely Obese\n",
      "40 and over\tMorbidly Obese\n"
     ]
    }
   ],
   "source": [
    "name = input('enter your name = ')\n",
    "print()\n",
    "weight = int(input('enter your weight in lbs = '))\n",
    "print()\n",
    "height = int(input('enter your height in inches = '))\n",
    "print()\n",
    "\n",
    "BMI = weight * 703 / (height * height)\n",
    "\n",
    "print (\"Your BMI is = \",round(BMI,2) )\n",
    "print()\n",
    "\n",
    "if BMI < 18.5:\n",
    "    print (name + ', You are Underweight ')\n",
    "    print()\n",
    "elif BMI <= 24.9:\n",
    "    print (name + ', You have Normal Weight')\n",
    "    print()\n",
    "elif BMI <= 29.9:\n",
    "    print (name + ', You are Overweight')\n",
    "    print()\n",
    "elif BMI <= 34.9:\n",
    "    print (name + ', You are Obese')\n",
    "    print()\n",
    "elif BMI <= 39.9:\n",
    "    print (name + ', You are Severly Obese')\n",
    "    print()\n",
    "else:\n",
    "    print (name + ', You are Morbidly Obese')\n",
    "    print()\n",
    "    \n",
    "print (\"\"\"Under 18.5\tUnderweight\n",
    "18.5 - 24.9\tNormal Weight\n",
    "25 - 29.9\tOverweight\n",
    "30 - 34.9\tObese\n",
    "35 - 39.9\tSeverely Obese\n",
    "40 and over\tMorbidly Obese\"\"\")"
   ]
  },
  {
   "cell_type": "code",
   "execution_count": null,
   "id": "b92a9f8b",
   "metadata": {},
   "outputs": [],
   "source": []
  },
  {
   "cell_type": "code",
   "execution_count": null,
   "id": "14b6b1b6",
   "metadata": {},
   "outputs": [],
   "source": []
  },
  {
   "cell_type": "code",
   "execution_count": null,
   "id": "8eb9d506",
   "metadata": {},
   "outputs": [],
   "source": []
  }
 ],
 "metadata": {
  "kernelspec": {
   "display_name": "Python 3 (ipykernel)",
   "language": "python",
   "name": "python3"
  },
  "language_info": {
   "codemirror_mode": {
    "name": "ipython",
    "version": 3
   },
   "file_extension": ".py",
   "mimetype": "text/x-python",
   "name": "python",
   "nbconvert_exporter": "python",
   "pygments_lexer": "ipython3",
   "version": "3.9.13"
  }
 },
 "nbformat": 4,
 "nbformat_minor": 5
}
